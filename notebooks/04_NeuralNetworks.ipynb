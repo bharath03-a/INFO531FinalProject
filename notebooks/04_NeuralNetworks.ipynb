{
 "cells": [
  {
   "cell_type": "code",
   "execution_count": 1,
   "metadata": {},
   "outputs": [],
   "source": [
    "import numpy as np\n",
    "import polars as pl\n",
    "import pandas as pd\n",
    "import matplotlib.pyplot as plt\n",
    "import seaborn as sns\n",
    "import matplotlib.cm as cm\n",
    "import warnings\n",
    "import random"
   ]
  },
  {
   "cell_type": "code",
   "execution_count": 2,
   "metadata": {},
   "outputs": [
    {
     "name": "stderr",
     "output_type": "stream",
     "text": [
      "/opt/anaconda3/envs/INFO531/lib/python3.11/site-packages/tqdm/auto.py:21: TqdmWarning: IProgress not found. Please update jupyter and ipywidgets. See https://ipywidgets.readthedocs.io/en/stable/user_install.html\n",
      "  from .autonotebook import tqdm as notebook_tqdm\n"
     ]
    }
   ],
   "source": [
    "import mlflow\n",
    "import mlflow.pytorch\n",
    "import torch\n",
    "import torch.nn as nn\n",
    "import torch.nn.functional as F\n",
    "from torch.utils.data import TensorDataset, DataLoader\n",
    "from torchsummary import summary\n",
    "\n",
    "from sklearn.model_selection import train_test_split\n",
    "from sklearn.metrics import roc_auc_score, accuracy_score, f1_score\n",
    "from sklearn.preprocessing import RobustScaler\n",
    "from collections import Counter\n",
    "from imblearn.over_sampling import SMOTE\n",
    "\n",
    "import shap"
   ]
  },
  {
   "cell_type": "code",
   "execution_count": 3,
   "metadata": {},
   "outputs": [],
   "source": [
    "warnings.filterwarnings(\"ignore\")\n",
    "plt.style.use('tableau-colorblind10')"
   ]
  },
  {
   "cell_type": "code",
   "execution_count": 4,
   "metadata": {},
   "outputs": [],
   "source": [
    "SEED = 42\n",
    "\n",
    "random.seed(SEED)\n",
    "np.random.seed(SEED)"
   ]
  },
  {
   "cell_type": "code",
   "execution_count": 5,
   "metadata": {},
   "outputs": [],
   "source": [
    "# Reading Train data\n",
    "full_train_data = pl.read_csv(\"../data/merged_cleaned_insurance_data.csv\")"
   ]
  },
  {
   "cell_type": "code",
   "execution_count": 6,
   "metadata": {},
   "outputs": [],
   "source": [
    "full_train_data = (\n",
    "    full_train_data\n",
    "    .group_by([\"Provider\", \"PotentialFraud\"])\n",
    "    .agg([\n",
    "        pl.col(\"*\").exclude([\"Provider\", \"PotentialFraud\"]).sum()\n",
    "    ])\n",
    ")"
   ]
  },
  {
   "cell_type": "code",
   "execution_count": 7,
   "metadata": {},
   "outputs": [
    {
     "name": "stdout",
     "output_type": "stream",
     "text": [
      "(5410, 63) <class 'polars.dataframe.frame.DataFrame'>\n",
      "(5410, 1) <class 'polars.dataframe.frame.DataFrame'>\n"
     ]
    }
   ],
   "source": [
    "X = full_train_data.drop(['Provider', 'PotentialFraud'])\n",
    "\n",
    "y = full_train_data.select('PotentialFraud')\n",
    "\n",
    "X_shape = X.shape\n",
    "y_shape = y.shape\n",
    "X_type = type(X)\n",
    "y_type = type(y)\n",
    "\n",
    "print(X_shape, X_type)\n",
    "print(y_shape, y_type)"
   ]
  },
  {
   "cell_type": "code",
   "execution_count": 8,
   "metadata": {},
   "outputs": [
    {
     "name": "stdout",
     "output_type": "stream",
     "text": [
      "SHAPES:\n",
      "X_train: (4328, 63)\n",
      "X_test: (1082, 63)\n",
      "y_train: (4328,)\n",
      "y_test: (1082,)\n",
      "\n",
      "TARGET DISTRIBUTION IN y_train:\n",
      "PotentialFraud\n",
      "0    3923\n",
      "1     405\n",
      "Name: count, dtype: int64\n",
      "\n",
      "TARGET DISTRIBUTION IN y_test:\n",
      "PotentialFraud\n",
      "0    981\n",
      "1    101\n",
      "Name: count, dtype: int64\n"
     ]
    }
   ],
   "source": [
    "X_pd = X.to_pandas()\n",
    "y_pd = y.to_pandas().squeeze()\n",
    "\n",
    "X_train, X_test, y_train, y_test = train_test_split(\n",
    "    X_pd, y_pd,\n",
    "    test_size=0.20,\n",
    "    stratify=y_pd,\n",
    "    random_state=39\n",
    ")\n",
    "\n",
    "\n",
    "print(\"SHAPES:\")\n",
    "print(\"X_train:\", X_train.shape)\n",
    "print(\"X_test:\", X_test.shape)\n",
    "print(\"y_train:\", y_train.shape)\n",
    "print(\"y_test:\", y_test.shape)\n",
    "\n",
    "print(\"\\nTARGET DISTRIBUTION IN y_train:\")\n",
    "print(y_train.value_counts())\n",
    "\n",
    "print(\"\\nTARGET DISTRIBUTION IN y_test:\")\n",
    "print(y_test.value_counts())"
   ]
  },
  {
   "cell_type": "code",
   "execution_count": 9,
   "metadata": {},
   "outputs": [],
   "source": [
    "robust_scaler = RobustScaler()\n",
    "X_train_std = robust_scaler.fit_transform(X_train)\n",
    "X_test_std = robust_scaler.transform(X_test)\n",
    "\n",
    "X_train_std = pd.DataFrame(X_train_std, columns=X_train.columns)\n",
    "X_test_std = pd.DataFrame(X_test_std, columns=X_train.columns)"
   ]
  },
  {
   "cell_type": "code",
   "execution_count": 10,
   "metadata": {},
   "outputs": [
    {
     "name": "stdout",
     "output_type": "stream",
     "text": [
      "Before SMOTE: Counter({0: 3923, 1: 405})\n",
      "After SMOTE: Counter({0: 3923, 1: 3923})\n"
     ]
    }
   ],
   "source": [
    "counter = Counter(y_train)\n",
    "print(\"Before SMOTE:\", counter)\n",
    "\n",
    "smote = SMOTE(sampling_strategy='auto', k_neighbors=5, random_state=42)\n",
    "X_train_ovsamp, y_train_ovsamp = smote.fit_resample(X_train_std, y_train)\n",
    "\n",
    "counter_after = Counter(y_train_ovsamp)\n",
    "print(\"After SMOTE:\", counter_after)"
   ]
  },
  {
   "cell_type": "code",
   "execution_count": 11,
   "metadata": {},
   "outputs": [],
   "source": [
    "X_train_split, X_val, y_train_split, y_val = train_test_split(\n",
    "    X_train_ovsamp, y_train_ovsamp,\n",
    "    test_size=0.15, stratify=y_train_ovsamp, random_state=SEED\n",
    ")"
   ]
  },
  {
   "cell_type": "code",
   "execution_count": 12,
   "metadata": {},
   "outputs": [],
   "source": [
    "def get_loader(X, y, batch_size, shuffle=True):\n",
    "    x_tensor = torch.from_numpy(X.values).float()\n",
    "    y_tensor = torch.from_numpy(y.values).float().unsqueeze(1)\n",
    "    dataset = TensorDataset(x_tensor, y_tensor)\n",
    "    return DataLoader(dataset, batch_size=batch_size, shuffle=shuffle)\n",
    "\n",
    "train_loader = get_loader(X_train_split, y_train_split, batch_size=256)\n",
    "val_loader = get_loader(X_val, y_val, batch_size=512, shuffle=False)\n",
    "test_loader = get_loader(X_test_std, y_test, batch_size=512, shuffle=False)"
   ]
  },
  {
   "cell_type": "code",
   "execution_count": 13,
   "metadata": {},
   "outputs": [],
   "source": [
    "class DeepNet(nn.Module):\n",
    "    def __init__(self, input_dim):\n",
    "        super().__init__()\n",
    "        dims = [input_dim, 512, 256, 128, 64, 32, 16, 8, 4, 1]\n",
    "        layers = []\n",
    "\n",
    "        for i in range(len(dims)-2):\n",
    "            layers.extend([\n",
    "                nn.Linear(dims[i], dims[i+1]),\n",
    "                nn.BatchNorm1d(dims[i+1]),\n",
    "                nn.ReLU(),\n",
    "                nn.Dropout(p=0.3 if i < 4 else 0.1)\n",
    "            ])\n",
    "        \n",
    "        layers.append(nn.Linear(dims[-2], dims[-1]))\n",
    "        self.net = nn.Sequential(*layers)\n",
    "\n",
    "    def forward(self, x):\n",
    "        return self.net(x).squeeze(1)\n"
   ]
  },
  {
   "cell_type": "code",
   "execution_count": 14,
   "metadata": {},
   "outputs": [],
   "source": [
    "device = torch.device(\"cuda\" if torch.cuda.is_available() else \"cpu\")\n",
    "model = DeepNet(X_train_split.shape[1]).to(device)\n",
    "criterion = nn.BCEWithLogitsLoss()\n",
    "optimizer = torch.optim.Adam(model.parameters(), lr=1e-3)\n",
    "epochs = 100"
   ]
  },
  {
   "cell_type": "code",
   "execution_count": 15,
   "metadata": {},
   "outputs": [
    {
     "name": "stdout",
     "output_type": "stream",
     "text": [
      "=================================================================\n",
      "Layer (type:depth-idx)                   Param #\n",
      "=================================================================\n",
      "├─Sequential: 1-1                        --\n",
      "|    └─Linear: 2-1                       32,768\n",
      "|    └─BatchNorm1d: 2-2                  1,024\n",
      "|    └─ReLU: 2-3                         --\n",
      "|    └─Dropout: 2-4                      --\n",
      "|    └─Linear: 2-5                       131,328\n",
      "|    └─BatchNorm1d: 2-6                  512\n",
      "|    └─ReLU: 2-7                         --\n",
      "|    └─Dropout: 2-8                      --\n",
      "|    └─Linear: 2-9                       32,896\n",
      "|    └─BatchNorm1d: 2-10                 256\n",
      "|    └─ReLU: 2-11                        --\n",
      "|    └─Dropout: 2-12                     --\n",
      "|    └─Linear: 2-13                      8,256\n",
      "|    └─BatchNorm1d: 2-14                 128\n",
      "|    └─ReLU: 2-15                        --\n",
      "|    └─Dropout: 2-16                     --\n",
      "|    └─Linear: 2-17                      2,080\n",
      "|    └─BatchNorm1d: 2-18                 64\n",
      "|    └─ReLU: 2-19                        --\n",
      "|    └─Dropout: 2-20                     --\n",
      "|    └─Linear: 2-21                      528\n",
      "|    └─BatchNorm1d: 2-22                 32\n",
      "|    └─ReLU: 2-23                        --\n",
      "|    └─Dropout: 2-24                     --\n",
      "|    └─Linear: 2-25                      136\n",
      "|    └─BatchNorm1d: 2-26                 16\n",
      "|    └─ReLU: 2-27                        --\n",
      "|    └─Dropout: 2-28                     --\n",
      "|    └─Linear: 2-29                      36\n",
      "|    └─BatchNorm1d: 2-30                 8\n",
      "|    └─ReLU: 2-31                        --\n",
      "|    └─Dropout: 2-32                     --\n",
      "|    └─Linear: 2-33                      5\n",
      "=================================================================\n",
      "Total params: 210,073\n",
      "Trainable params: 210,073\n",
      "Non-trainable params: 0\n",
      "=================================================================\n"
     ]
    },
    {
     "data": {
      "text/plain": [
       "=================================================================\n",
       "Layer (type:depth-idx)                   Param #\n",
       "=================================================================\n",
       "├─Sequential: 1-1                        --\n",
       "|    └─Linear: 2-1                       32,768\n",
       "|    └─BatchNorm1d: 2-2                  1,024\n",
       "|    └─ReLU: 2-3                         --\n",
       "|    └─Dropout: 2-4                      --\n",
       "|    └─Linear: 2-5                       131,328\n",
       "|    └─BatchNorm1d: 2-6                  512\n",
       "|    └─ReLU: 2-7                         --\n",
       "|    └─Dropout: 2-8                      --\n",
       "|    └─Linear: 2-9                       32,896\n",
       "|    └─BatchNorm1d: 2-10                 256\n",
       "|    └─ReLU: 2-11                        --\n",
       "|    └─Dropout: 2-12                     --\n",
       "|    └─Linear: 2-13                      8,256\n",
       "|    └─BatchNorm1d: 2-14                 128\n",
       "|    └─ReLU: 2-15                        --\n",
       "|    └─Dropout: 2-16                     --\n",
       "|    └─Linear: 2-17                      2,080\n",
       "|    └─BatchNorm1d: 2-18                 64\n",
       "|    └─ReLU: 2-19                        --\n",
       "|    └─Dropout: 2-20                     --\n",
       "|    └─Linear: 2-21                      528\n",
       "|    └─BatchNorm1d: 2-22                 32\n",
       "|    └─ReLU: 2-23                        --\n",
       "|    └─Dropout: 2-24                     --\n",
       "|    └─Linear: 2-25                      136\n",
       "|    └─BatchNorm1d: 2-26                 16\n",
       "|    └─ReLU: 2-27                        --\n",
       "|    └─Dropout: 2-28                     --\n",
       "|    └─Linear: 2-29                      36\n",
       "|    └─BatchNorm1d: 2-30                 8\n",
       "|    └─ReLU: 2-31                        --\n",
       "|    └─Dropout: 2-32                     --\n",
       "|    └─Linear: 2-33                      5\n",
       "=================================================================\n",
       "Total params: 210,073\n",
       "Trainable params: 210,073\n",
       "Non-trainable params: 0\n",
       "================================================================="
      ]
     },
     "execution_count": 15,
     "metadata": {},
     "output_type": "execute_result"
    }
   ],
   "source": [
    "summary(model, input_size=(X_train_split.shape[1],))"
   ]
  },
  {
   "cell_type": "code",
   "execution_count": 16,
   "metadata": {},
   "outputs": [],
   "source": [
    "class EarlyStopping:\n",
    "    def __init__(self, patience=5, min_delta=0.0):\n",
    "        self.patience = patience\n",
    "        self.min_delta = min_delta\n",
    "        self.counter = 0\n",
    "        self.best_score = None\n",
    "        self.early_stop = False\n",
    "\n",
    "    def __call__(self, score):\n",
    "        if self.best_score is None:\n",
    "            self.best_score = score\n",
    "        elif score < self.best_score + self.min_delta:\n",
    "            self.counter += 1\n",
    "            if self.counter >= self.patience:\n",
    "                print(f\"⏹️ Early stopping triggered after {self.counter} checks.\")\n",
    "                self.early_stop = True\n",
    "        else:\n",
    "            self.best_score = score\n",
    "            self.counter = 0\n"
   ]
  },
  {
   "cell_type": "code",
   "execution_count": 17,
   "metadata": {},
   "outputs": [
    {
     "name": "stdout",
     "output_type": "stream",
     "text": [
      "Epoch 01 - Loss: 0.6644 | Val AUC: 0.9259 | F1: 0.6663\n",
      "Epoch 02 - Loss: 0.5828 | Val AUC: 0.9254 | F1: 0.8691\n",
      "Epoch 03 - Loss: 0.5276 | Val AUC: 0.9424 | F1: 0.8727\n",
      "Epoch 04 - Loss: 0.4971 | Val AUC: 0.9428 | F1: 0.8724\n",
      "Epoch 05 - Loss: 0.4776 | Val AUC: 0.9412 | F1: 0.8630\n",
      "Epoch 06 - Loss: 0.4572 | Val AUC: 0.9419 | F1: 0.8705\n",
      "Epoch 07 - Loss: 0.4398 | Val AUC: 0.9487 | F1: 0.8804\n",
      "Epoch 08 - Loss: 0.4201 | Val AUC: 0.9482 | F1: 0.8855\n",
      "Epoch 09 - Loss: 0.4120 | Val AUC: 0.9476 | F1: 0.8859\n",
      "Epoch 10 - Loss: 0.4006 | Val AUC: 0.9489 | F1: 0.8823\n",
      "Epoch 11 - Loss: 0.3880 | Val AUC: 0.9496 | F1: 0.8838\n",
      "Epoch 12 - Loss: 0.3935 | Val AUC: 0.9524 | F1: 0.8809\n",
      "Epoch 13 - Loss: 0.3834 | Val AUC: 0.9518 | F1: 0.8797\n",
      "Epoch 14 - Loss: 0.3727 | Val AUC: 0.9518 | F1: 0.8857\n",
      "Epoch 15 - Loss: 0.3943 | Val AUC: 0.9530 | F1: 0.8905\n",
      "Epoch 16 - Loss: 0.3751 | Val AUC: 0.9513 | F1: 0.8833\n",
      "Epoch 17 - Loss: 0.3659 | Val AUC: 0.9535 | F1: 0.8691\n",
      "Epoch 18 - Loss: 0.3544 | Val AUC: 0.9534 | F1: 0.8930\n",
      "Epoch 19 - Loss: 0.3695 | Val AUC: 0.9542 | F1: 0.8861\n",
      "Epoch 20 - Loss: 0.3512 | Val AUC: 0.9561 | F1: 0.8910\n",
      "Epoch 21 - Loss: 0.3572 | Val AUC: 0.9530 | F1: 0.8552\n",
      "Epoch 22 - Loss: 0.3702 | Val AUC: 0.9545 | F1: 0.8846\n",
      "Epoch 23 - Loss: 0.3607 | Val AUC: 0.9535 | F1: 0.8845\n",
      "Epoch 24 - Loss: 0.3671 | Val AUC: 0.9544 | F1: 0.8819\n",
      "Epoch 25 - Loss: 0.3540 | Val AUC: 0.9559 | F1: 0.8799\n",
      "⏹️ Early stopping triggered after 5 checks.\n"
     ]
    }
   ],
   "source": [
    "early_stopper = EarlyStopping(patience=5, min_delta=1e-4)\n",
    "\n",
    "train_loss_history = []\n",
    "val_auc_history = []\n",
    "val_f1_history = []\n",
    "val_acc_history = []\n",
    "\n",
    "\n",
    "for epoch in range(epochs):\n",
    "    model.train()\n",
    "    train_losses = []\n",
    "\n",
    "    for X_batch, y_batch in train_loader:\n",
    "        X_batch, y_batch = X_batch.to(device), y_batch.to(device)\n",
    "        optimizer.zero_grad()\n",
    "        outputs = model(X_batch)\n",
    "        loss = criterion(outputs, y_batch.squeeze())\n",
    "        loss.backward()\n",
    "        optimizer.step()\n",
    "        train_losses.append(loss.item())\n",
    "\n",
    "    model.eval()\n",
    "    val_preds, val_targets = [], []\n",
    "    with torch.no_grad():\n",
    "        for X_val_batch, y_val_batch in val_loader:\n",
    "            X_val_batch = X_val_batch.to(device)\n",
    "            outputs = model(X_val_batch)\n",
    "            val_preds.extend(torch.sigmoid(outputs).cpu().numpy())\n",
    "            val_targets.extend(y_val_batch.squeeze().numpy())\n",
    "\n",
    "    val_preds_binary = [1 if p > 0.5 else 0 for p in val_preds]\n",
    "    acc = accuracy_score(val_targets, val_preds_binary)\n",
    "    auc = roc_auc_score(val_targets, val_preds)\n",
    "    f1 = f1_score(val_targets, val_preds_binary)\n",
    "\n",
    "    train_loss = sum(train_losses) / len(train_losses)\n",
    "    train_loss_history.append(train_loss)\n",
    "    val_auc_history.append(auc)\n",
    "    val_f1_history.append(f1)\n",
    "    val_acc_history.append(acc)\n",
    "\n",
    "    print(f\"Epoch {epoch+1:02d} - Loss: {sum(train_losses)/len(train_losses):.4f} | Val AUC: {auc:.4f} | F1: {f1:.4f}\")\n",
    "\n",
    "    early_stopper(auc)\n",
    "    if early_stopper.early_stop:\n",
    "        break"
   ]
  },
  {
   "cell_type": "code",
   "execution_count": 18,
   "metadata": {},
   "outputs": [],
   "source": [
    "model.eval()\n",
    "test_preds, test_targets = [], []\n",
    "with torch.no_grad():\n",
    "    for X_batch, y_batch in test_loader:\n",
    "        X_batch = X_batch.to(device)\n",
    "        outputs = model(X_batch)\n",
    "        test_preds.extend(torch.sigmoid(outputs).cpu().numpy())\n",
    "        test_targets.extend(y_batch.squeeze().numpy())\n",
    "\n",
    "test_preds_binary = [1 if p > 0.5 else 0 for p in test_preds]"
   ]
  },
  {
   "cell_type": "code",
   "execution_count": 19,
   "metadata": {},
   "outputs": [
    {
     "name": "stdout",
     "output_type": "stream",
     "text": [
      "\n",
      "Final Test Evaluation:\n",
      "Accuracy: 0.7939001848428835\n",
      "AUC: 0.9275340378074506\n",
      "F1 Score: 0.45742092457420924\n"
     ]
    }
   ],
   "source": [
    "print(\"\\nFinal Test Evaluation:\")\n",
    "print(\"Accuracy:\", accuracy_score(test_targets, test_preds_binary))\n",
    "print(\"AUC:\", roc_auc_score(test_targets, test_preds))\n",
    "print(\"F1 Score:\", f1_score(test_targets, test_preds_binary))"
   ]
  },
  {
   "cell_type": "code",
   "execution_count": 20,
   "metadata": {},
   "outputs": [
    {
     "data": {
      "image/png": "[encoded data removed]",
      "text/plain": [
       "<Figure size 1400x600 with 2 Axes>"
      ]
     },
     "metadata": {},
     "output_type": "display_data"
    }
   ],
   "source": [
    "epochs_range = range(1, len(train_loss_history) + 1)\n",
    "\n",
    "plt.figure(figsize=(14, 6))\n",
    "\n",
    "plt.subplot(1, 2, 1)\n",
    "plt.plot(epochs_range, train_loss_history, label='Train Loss', marker='o')\n",
    "plt.title(\"Training Loss per Epoch\")\n",
    "plt.xlabel(\"Epoch\")\n",
    "plt.ylabel(\"Loss\")\n",
    "plt.grid(True)\n",
    "plt.legend()\n",
    "\n",
    "plt.subplot(1, 2, 2)\n",
    "plt.plot(epochs_range, val_auc_history, label='Validation AUC', marker='x')\n",
    "plt.plot(epochs_range, val_f1_history, label='Validation F1', marker='s')\n",
    "plt.plot(epochs_range, val_acc_history, label='Validation Accuracy', marker='^')\n",
    "plt.title(\"Validation Metrics per Epoch\")\n",
    "plt.xlabel(\"Epoch\")\n",
    "plt.ylabel(\"Score\")\n",
    "plt.grid(True)\n",
    "plt.legend()\n",
    "\n",
    "plt.tight_layout()\n",
    "plt.show()"
   ]
  }
 ],
 "metadata": {
  "kernelspec": {
   "display_name": "INFO531",
   "language": "python",
   "name": "python3"
  },
  "language_info": {
   "codemirror_mode": {
    "name": "ipython",
    "version": 3
   },
   "file_extension": ".py",
   "mimetype": "text/x-python",
   "name": "python",
   "nbconvert_exporter": "python",
   "pygments_lexer": "ipython3",
   "version": "3.11.11"
  }
 },
 "nbformat": 4,
 "nbformat_minor": 2
}
