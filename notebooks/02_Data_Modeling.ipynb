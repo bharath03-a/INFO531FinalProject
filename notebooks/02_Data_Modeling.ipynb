{
 "cells": [
  {
   "cell_type": "markdown",
   "metadata": {},
   "source": [
    "### Merging the Data\n",
    "\n",
    "Merging the IP and OP dataset on the basis of common columns\n",
    "\n",
    "Merging the IP, OP dataset with BENE Data\n",
    "\n",
    "Merging the data with provider level target labels\n",
    "\n",
    "Then we will get the entire dataset"
   ]
  },
  {
   "cell_type": "markdown",
   "metadata": {},
   "source": [
    "### Feature Engineering on merged Data"
   ]
  },
  {
   "cell_type": "markdown",
   "metadata": {},
   "source": [
    "### Handling Data"
   ]
  },
  {
   "cell_type": "markdown",
   "metadata": {},
   "source": [
    "### Modelling"
   ]
  }
 ],
 "metadata": {
  "language_info": {
   "name": "python"
  }
 },
 "nbformat": 4,
 "nbformat_minor": 2
}
