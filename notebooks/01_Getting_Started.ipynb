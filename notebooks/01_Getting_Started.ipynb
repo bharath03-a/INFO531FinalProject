{
 "cells": [
  {
   "cell_type": "code",
   "execution_count": 1,
   "metadata": {},
   "outputs": [],
   "source": [
    "# Importing necessary Libraries\n",
    "import numpy as np\n",
    "import polars as pl\n",
    "import pandas as pd\n",
    "import matplotlib.pyplot as plt\n",
    "import seaborn as sns"
   ]
  },
  {
   "cell_type": "markdown",
   "metadata": {},
   "source": [
    "## Dataset"
   ]
  },
  {
   "cell_type": "code",
   "execution_count": 2,
   "metadata": {},
   "outputs": [],
   "source": [
    "# Reading Train data\n",
    "train_beneficiary = pl.read_csv(\"../data/Train_Beneficiarydata.csv\")\n",
    "train_inpatient = pl.read_csv(\"../data/Train_Inpatientdata.csv\", ignore_errors=True)\n",
    "train_outpatient = pl.read_csv(\"../data/Train_Outpatientdata.csv\")\n",
    "train = pl.read_csv(\"../data/Train.csv\")\n",
    "\n",
    "# Reading Test data\n",
    "test_beneficiary = pl.read_csv(\"../data/Test_Beneficiarydata.csv\")\n",
    "test_inpatient = pl.read_csv(\"../data/Test_Inpatientdata.csv\", ignore_errors=True)\n",
    "test_outpatient = pl.read_csv(\"../data/Test_Outpatientdata.csv\")\n",
    "test = pl.read_csv(\"../data/Test.csv\")"
   ]
  },
  {
   "cell_type": "markdown",
   "metadata": {},
   "source": [
    "## Exploring Beneficiary Data"
   ]
  },
  {
   "cell_type": "code",
   "execution_count": 3,
   "metadata": {},
   "outputs": [
    {
     "name": "stdout",
     "output_type": "stream",
     "text": [
      "Shape of Train_Beneficiarydata: (138556, 25)\n",
      "Shape of Test_Beneficiarydata: (63968, 25)\n"
     ]
    }
   ],
   "source": [
    "print(f\"Shape of Train_Beneficiarydata: {train_beneficiary.shape}\")\n",
    "print(f\"Shape of Test_Beneficiarydata: {test_beneficiary.shape}\")"
   ]
  },
  {
   "cell_type": "code",
   "execution_count": 4,
   "metadata": {},
   "outputs": [
    {
     "name": "stdout",
     "output_type": "stream",
     "text": [
      "Columns in Train_Beneficiarydata: ['BeneID', 'DOB', 'DOD', 'Gender', 'Race', 'RenalDiseaseIndicator', 'State', 'County', 'NoOfMonths_PartACov', 'NoOfMonths_PartBCov', 'ChronicCond_Alzheimer', 'ChronicCond_Heartfailure', 'ChronicCond_KidneyDisease', 'ChronicCond_Cancer', 'ChronicCond_ObstrPulmonary', 'ChronicCond_Depression', 'ChronicCond_Diabetes', 'ChronicCond_IschemicHeart', 'ChronicCond_Osteoporasis', 'ChronicCond_rheumatoidarthritis', 'ChronicCond_stroke', 'IPAnnualReimbursementAmt', 'IPAnnualDeductibleAmt', 'OPAnnualReimbursementAmt', 'OPAnnualDeductibleAmt']\n"
     ]
    }
   ],
   "source": [
    "print(f\"Columns in Train_Beneficiarydata: {train_beneficiary.columns}\")"
   ]
  },
  {
   "cell_type": "code",
   "execution_count": 5,
   "metadata": {},
   "outputs": [
    {
     "data": {
      "text/plain": [
       "Schema([('BeneID', String),\n",
       "        ('DOB', String),\n",
       "        ('DOD', String),\n",
       "        ('Gender', Int64),\n",
       "        ('Race', Int64),\n",
       "        ('RenalDiseaseIndicator', String),\n",
       "        ('State', Int64),\n",
       "        ('County', Int64),\n",
       "        ('NoOfMonths_PartACov', Int64),\n",
       "        ('NoOfMonths_PartBCov', Int64),\n",
       "        ('ChronicCond_Alzheimer', Int64),\n",
       "        ('ChronicCond_Heartfailure', Int64),\n",
       "        ('ChronicCond_KidneyDisease', Int64),\n",
       "        ('ChronicCond_Cancer', Int64),\n",
       "        ('ChronicCond_ObstrPulmonary', Int64),\n",
       "        ('ChronicCond_Depression', Int64),\n",
       "        ('ChronicCond_Diabetes', Int64),\n",
       "        ('ChronicCond_IschemicHeart', Int64),\n",
       "        ('ChronicCond_Osteoporasis', Int64),\n",
       "        ('ChronicCond_rheumatoidarthritis', Int64),\n",
       "        ('ChronicCond_stroke', Int64),\n",
       "        ('IPAnnualReimbursementAmt', Int64),\n",
       "        ('IPAnnualDeductibleAmt', Int64),\n",
       "        ('OPAnnualReimbursementAmt', Int64),\n",
       "        ('OPAnnualDeductibleAmt', Int64)])"
      ]
     },
     "execution_count": 5,
     "metadata": {},
     "output_type": "execute_result"
    }
   ],
   "source": [
    "train_beneficiary.schema"
   ]
  },
  {
   "cell_type": "code",
   "execution_count": 6,
   "metadata": {},
   "outputs": [
    {
     "name": "stdout",
     "output_type": "stream",
     "text": [
      "Number of unique beneficiaries: 138556\n"
     ]
    }
   ],
   "source": [
    "# Number of unique beneficiaries in Training Data\n",
    "num_unique_beneficiaries = train_beneficiary.select(pl.col(\"BeneID\").n_unique()).item()\n",
    "print(f\"Number of unique beneficiaries: {num_unique_beneficiaries}\")\n"
   ]
  },
  {
   "cell_type": "code",
   "execution_count": 7,
   "metadata": {},
   "outputs": [],
   "source": [
    "# Gender distribution transformation (1: Male, 2: Female → 1: Male, 0: Female)\n",
    "train_beneficiary = train_beneficiary.with_columns(\n",
    "    (pl.when(pl.col(\"Gender\") == 2).then(0).otherwise(1)).alias(\"Gender\")\n",
    ")"
   ]
  },
  {
   "cell_type": "code",
   "execution_count": 8,
   "metadata": {},
   "outputs": [],
   "source": [
    "# Calculating Age from DOB\n",
    "train_beneficiary = train_beneficiary.with_columns(\n",
    "    pl.col(\"DOB\").str.strptime(pl.Date, \"%Y-%m-%d\").alias(\"DOB\")\n",
    ")\n",
    "train_beneficiary = train_beneficiary.with_columns(\n",
    "    pl.col(\"DOB\").dt.year().alias(\"Patient_Age_Year\"),\n",
    "    pl.col(\"DOB\").dt.month().alias(\"Patient_Age_Month\")\n",
    ")"
   ]
  },
  {
   "cell_type": "code",
   "execution_count": 9,
   "metadata": {},
   "outputs": [],
   "source": [
    "# Adding \"Dead_or_Alive\" column (1: Dead, 0: Alive)\n",
    "train_beneficiary = train_beneficiary.with_columns(\n",
    "    (pl.when(pl.col(\"DOD\").is_null()).then(0).otherwise(1)).alias(\"Dead_or_Alive\")\n",
    ")"
   ]
  },
  {
   "cell_type": "code",
   "execution_count": 10,
   "metadata": {},
   "outputs": [],
   "source": [
    "# Filling NaN values in \"DOD\" column with the latest known death date\n",
    "max_dod = train_beneficiary[\"DOD\"].drop_nulls().max()\n",
    "\n",
    "train_beneficiary = train_beneficiary.with_columns(\n",
    "    pl.when(pl.col(\"DOD\").is_null())\n",
    "    .then(pl.lit(max_dod))\n",
    "    .otherwise(pl.col(\"DOD\"))\n",
    "    .alias(\"DOD\")\n",
    ")"
   ]
  },
  {
   "cell_type": "code",
   "execution_count": 11,
   "metadata": {},
   "outputs": [],
   "source": [
    "# Ensuring \"DOD\" and \"DOB\" are in Date format\n",
    "train_beneficiary = train_beneficiary.with_columns([\n",
    "    pl.col(\"DOD\").cast(pl.Utf8).str.strptime(pl.Date, \"%Y-%m-%d\", strict=False).alias(\"DOD\"),\n",
    "    pl.col(\"DOB\").cast(pl.Utf8).str.strptime(pl.Date, \"%Y-%m-%d\", strict=False).alias(\"DOB\")\n",
    "])\n",
    "\n",
    "# Calculating age only for non-null DOD values\n",
    "train_beneficiary = train_beneficiary.with_columns(\n",
    "    pl.when(pl.col(\"DOD\").is_not_null())\n",
    "    .then(((pl.col(\"DOD\") - pl.col(\"DOB\")).dt.total_days() / 365.0).round(1))\n",
    "    .otherwise(None)\n",
    "    .alias(\"AGE\")\n",
    ")\n",
    "\n",
    "# Dropping DOD column\n",
    "train_beneficiary = train_beneficiary.drop(\"DOD\")"
   ]
  },
  {
   "cell_type": "code",
   "execution_count": 12,
   "metadata": {},
   "outputs": [],
   "source": [
    "# train_beneficiary = train_beneficiary.with_columns(\n",
    "#     pl.when(pl.col(\"AGE\") <= 40)\n",
    "#     .then(\"Young\")\n",
    "#     .when(pl.col(\"AGE\") <= 60)\n",
    "#     .then(\"Mid\")\n",
    "#     .when(pl.col(\"AGE\") <= 80)\n",
    "#     .then(\"Old\")\n",
    "#     .otherwise(\"Very Old\")\n",
    "#     .alias(\"AGE_groups\")\n",
    "# )"
   ]
  }
 ],
 "metadata": {
  "kernelspec": {
   "display_name": "INFO531",
   "language": "python",
   "name": "python3"
  },
  "language_info": {
   "codemirror_mode": {
    "name": "ipython",
    "version": 3
   },
   "file_extension": ".py",
   "mimetype": "text/x-python",
   "name": "python",
   "nbconvert_exporter": "python",
   "pygments_lexer": "ipython3",
   "version": "3.11.11"
  }
 },
 "nbformat": 4,
 "nbformat_minor": 2
}
