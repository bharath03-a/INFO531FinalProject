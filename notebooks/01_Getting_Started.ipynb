{
 "cells": [
  {
   "cell_type": "code",
   "execution_count": 1,
   "metadata": {},
   "outputs": [],
   "source": [
    "# Importing necessary Libraries\n",
    "import numpy as np\n",
    "import polars as pl\n",
    "import pandas as pd\n",
    "import matplotlib.pyplot as plt\n",
    "import seaborn as sns\n",
    "import warnings\n",
    "\n",
    "from scipy.stats import kurtosis, skew"
   ]
  },
  {
   "cell_type": "code",
   "execution_count": 2,
   "metadata": {},
   "outputs": [],
   "source": [
    "warnings.filterwarnings(\"ignore\")\n",
    "plt.style.use('tableau-colorblind10')"
   ]
  },
  {
   "cell_type": "markdown",
   "metadata": {},
   "source": [
    "## Dataset\n",
    "The goal of this project is to `predict the potentially fraudulent providers` based on the claims filed by them.along with this, we will also discover important variables helpful in detecting the behaviour of potentially fraud providers. further, we will study fraudulent patterns in the provider's claims to understand the future behaviour of providers.\n",
    "\n",
    "For the purpose of this project, we are considering Inpatient claims, Outpatient claims and Beneficiary details of each provider. Lets s see their details :\n",
    "\n",
    "1) **Inpatient Data:** This data provides insights about the claims filed for those patients who are admitted in the hospitals. It also provides additional details like their admission and discharge dates and admit d diagnosis code.\n",
    "\n",
    "2) **Outpatient Data:** This data provides details about the claims filed for those patients who visit hospitals and not admitted in it.\n",
    "\n",
    "3) **Beneficiary Details Data:** This data contains beneficiary KYC details like health conditions,regioregion they belong to etc.\n",
    "\n",
    "I will be reading the data using `Polars` both training and testing data."
   ]
  },
  {
   "cell_type": "code",
   "execution_count": 3,
   "metadata": {},
   "outputs": [],
   "source": [
    "# Reading Train data\n",
    "train_beneficiary = pl.read_csv(\"../data/Train_Beneficiarydata.csv\")\n",
    "train_inpatient = pl.read_csv(\"../data/Train_Inpatientdata.csv\", ignore_errors=True)\n",
    "train_outpatient = pl.read_csv(\"../data/Train_Outpatientdata.csv\")\n",
    "train = pl.read_csv(\"../data/Train.csv\")\n",
    "\n",
    "# Reading Test data\n",
    "test_beneficiary = pl.read_csv(\"../data/Test_Beneficiarydata.csv\")\n",
    "test_inpatient = pl.read_csv(\"../data/Test_Inpatientdata.csv\", ignore_errors=True)\n",
    "test_outpatient = pl.read_csv(\"../data/Test_Outpatientdata.csv\")\n",
    "test = pl.read_csv(\"../data/Test.csv\")"
   ]
  },
  {
   "cell_type": "markdown",
   "metadata": {},
   "source": [
    "I plan to explore each data file individually to focus on the unique insights and patterns within each dataset. This targeted approach will allow me to develop a deeper understanding of the data characteristics, quality, and potential relationships. Once the individual analyses are complete, I will integrate all the files to perform a comprehensive, unified analysis that captures the broader trends and interactions across datasets."
   ]
  },
  {
   "cell_type": "markdown",
   "metadata": {},
   "source": [
    "## Exploring Beneficiary Data"
   ]
  },
  {
   "cell_type": "code",
   "execution_count": 4,
   "metadata": {},
   "outputs": [
    {
     "name": "stdout",
     "output_type": "stream",
     "text": [
      "Shape of Train_Beneficiarydata: (138556, 25)\n",
      "Shape of Test_Beneficiarydata: (63968, 25)\n"
     ]
    }
   ],
   "source": [
    "print(f\"Shape of Train_Beneficiarydata: {train_beneficiary.shape}\")\n",
    "print(f\"Shape of Test_Beneficiarydata: {test_beneficiary.shape}\")"
   ]
  },
  {
   "cell_type": "code",
   "execution_count": 5,
   "metadata": {},
   "outputs": [
    {
     "name": "stdout",
     "output_type": "stream",
     "text": [
      "Columns in Train_Beneficiarydata: ['BeneID', 'DOB', 'DOD', 'Gender', 'Race', 'RenalDiseaseIndicator', 'State', 'County', 'NoOfMonths_PartACov', 'NoOfMonths_PartBCov', 'ChronicCond_Alzheimer', 'ChronicCond_Heartfailure', 'ChronicCond_KidneyDisease', 'ChronicCond_Cancer', 'ChronicCond_ObstrPulmonary', 'ChronicCond_Depression', 'ChronicCond_Diabetes', 'ChronicCond_IschemicHeart', 'ChronicCond_Osteoporasis', 'ChronicCond_rheumatoidarthritis', 'ChronicCond_stroke', 'IPAnnualReimbursementAmt', 'IPAnnualDeductibleAmt', 'OPAnnualReimbursementAmt', 'OPAnnualDeductibleAmt']\n"
     ]
    }
   ],
   "source": [
    "print(f\"Columns in Train_Beneficiarydata: {train_beneficiary.columns}\")"
   ]
  },
  {
   "cell_type": "code",
   "execution_count": 6,
   "metadata": {},
   "outputs": [
    {
     "data": {
      "text/plain": [
       "Schema([('BeneID', String),\n",
       "        ('DOB', String),\n",
       "        ('DOD', String),\n",
       "        ('Gender', Int64),\n",
       "        ('Race', Int64),\n",
       "        ('RenalDiseaseIndicator', String),\n",
       "        ('State', Int64),\n",
       "        ('County', Int64),\n",
       "        ('NoOfMonths_PartACov', Int64),\n",
       "        ('NoOfMonths_PartBCov', Int64),\n",
       "        ('ChronicCond_Alzheimer', Int64),\n",
       "        ('ChronicCond_Heartfailure', Int64),\n",
       "        ('ChronicCond_KidneyDisease', Int64),\n",
       "        ('ChronicCond_Cancer', Int64),\n",
       "        ('ChronicCond_ObstrPulmonary', Int64),\n",
       "        ('ChronicCond_Depression', Int64),\n",
       "        ('ChronicCond_Diabetes', Int64),\n",
       "        ('ChronicCond_IschemicHeart', Int64),\n",
       "        ('ChronicCond_Osteoporasis', Int64),\n",
       "        ('ChronicCond_rheumatoidarthritis', Int64),\n",
       "        ('ChronicCond_stroke', Int64),\n",
       "        ('IPAnnualReimbursementAmt', Int64),\n",
       "        ('IPAnnualDeductibleAmt', Int64),\n",
       "        ('OPAnnualReimbursementAmt', Int64),\n",
       "        ('OPAnnualDeductibleAmt', Int64)])"
      ]
     },
     "execution_count": 6,
     "metadata": {},
     "output_type": "execute_result"
    }
   ],
   "source": [
    "train_beneficiary.schema"
   ]
  },
  {
   "cell_type": "code",
   "execution_count": 7,
   "metadata": {},
   "outputs": [],
   "source": [
    "def get_stats(df):\n",
    "    \"\"\"\n",
    "    Generates a comprehensive statistical summary of a Polars DataFrame.\n",
    "\n",
    "    This function analyzes each column of the provided Polars DataFrame `df`\n",
    "    and returns a summary containing:\n",
    "      - Column names\n",
    "      - Data types\n",
    "      - Count of non-null values\n",
    "      - Count of null values\n",
    "      - Percentage of missing values\n",
    "      - Number of unique values\n",
    "      - Sample unique values\n",
    "      - Kurtosis (for numeric columns)\n",
    "      - Skewness (for numeric columns)\n",
    "\n",
    "    Parameters:\n",
    "    -----------\n",
    "    df : pl.DataFrame\n",
    "        The input Polars DataFrame to analyze.\n",
    "\n",
    "    Returns:\n",
    "    --------\n",
    "    pl.DataFrame\n",
    "        A summary DataFrame with the statistics for each column in the input DataFrame.\n",
    "    \"\"\"\n",
    "    df = df.with_columns([\n",
    "        pl.when(pl.col(col) == \"NA\").then(None).otherwise(pl.col(col)).alias(col)\n",
    "        if df[col].dtype == pl.Utf8 else df[col]\n",
    "        for col in df.columns\n",
    "    ])\n",
    "    \n",
    "    n_rows = df.shape[0]\n",
    "    columns = df.columns\n",
    "    dtypes = df.dtypes\n",
    "    total_cnt = df.select(pl.col(\"*\").drop_nulls().count())\n",
    "    null_cnt = df.select([\n",
    "        (n_rows - pl.col(col).drop_nulls().count()).alias(f\"{col}_null_count\")\n",
    "        for col in df.columns\n",
    "    ])\n",
    "    missing_perc = null_cnt.with_columns([\n",
    "        (pl.col(col) / n_rows * 100).alias(f\"{col}_missing_percentage\")\n",
    "        for col in null_cnt.columns\n",
    "    ])\n",
    "    unq_vals = {col: df[col].n_unique() for col in df.columns}\n",
    "    total_unqs = {col: df[col].unique().to_list() for col in df.columns}\n",
    "    numeric_cols = df.select(pl.col(pl.Int64) | pl.col(pl.Float64))\n",
    "\n",
    "    if numeric_cols.columns:\n",
    "        kurtosis_vals = {}\n",
    "        skewness_vals = {}\n",
    "\n",
    "        for col in numeric_cols.columns:\n",
    "            data = numeric_cols.select(pl.col(col)).to_numpy().flatten()\n",
    "            kurtosis_vals[col] = kurtosis(data)\n",
    "            skewness_vals[col] = skew(data)\n",
    "\n",
    "        kurtosis_list = [kurtosis_vals.get(col, None) for col in df.columns]\n",
    "        skewness_list = [skewness_vals.get(col, None) for col in df.columns]\n",
    "    else:\n",
    "        kurtosis_list = [None] * len(df.columns)\n",
    "        skewness_list = [None] * len(df.columns)\n",
    "\n",
    "    summary = pl.DataFrame({\n",
    "        \"Columns\": columns,\n",
    "        \"Data Type\": dtypes,\n",
    "        \"Non-Null count\": [total_cnt[col][0] for col in df.columns],\n",
    "        \"Null count\": [null_cnt[f\"{col}_null_count\"][0] for col in df.columns],\n",
    "        \"Missing Percentage (%)\": [missing_perc[f\"{col}_null_count_missing_percentage\"][0] for col in df.columns],\n",
    "        \"Number of Unique Values\": [unq_vals[col] for col in df.columns],\n",
    "        \"Sample Unique Values\": [total_unqs[col] for col in df.columns]\n",
    "    }, strict=False)\n",
    "\n",
    "    summary = summary.with_columns([\n",
    "        pl.Series(\"Kurtosis\", kurtosis_list),\n",
    "        pl.Series(\"Skewness\", skewness_list)\n",
    "    ])\n",
    "\n",
    "    return summary"
   ]
  },
  {
   "cell_type": "code",
   "execution_count": 8,
   "metadata": {},
   "outputs": [],
   "source": [
    "beneficiary_stats = get_stats(train_beneficiary)"
   ]
  },
  {
   "cell_type": "code",
   "execution_count": 9,
   "metadata": {},
   "outputs": [
    {
     "data": {
      "text/html": [
       "<div><style>\n",
       ".dataframe > thead > tr,\n",
       ".dataframe > tbody > tr {\n",
       "  text-align: right;\n",
       "  white-space: pre-wrap;\n",
       "}\n",
       "</style>\n",
       "<small>shape: (25, 9)</small><table border=\"1\" class=\"dataframe\"><thead><tr><th>Columns</th><th>Data Type</th><th>Non-Null count</th><th>Null count</th><th>Missing Percentage (%)</th><th>Number of Unique Values</th><th>Sample Unique Values</th><th>Kurtosis</th><th>Skewness</th></tr><tr><td>str</td><td>object</td><td>i64</td><td>i64</td><td>f64</td><td>i64</td><td>list[str]</td><td>f64</td><td>f64</td></tr></thead><tbody><tr><td>&quot;BeneID&quot;</td><td>String</td><td>138556</td><td>0</td><td>0.0</td><td>138556</td><td>[&quot;BENE55225&quot;, &quot;BENE108255&quot;, … &quot;BENE76563&quot;]</td><td>null</td><td>null</td></tr><tr><td>&quot;DOB&quot;</td><td>String</td><td>138556</td><td>0</td><td>0.0</td><td>900</td><td>[&quot;1919-10-01&quot;, &quot;1945-07-01&quot;, … &quot;1957-04-01&quot;]</td><td>null</td><td>null</td></tr><tr><td>&quot;DOD&quot;</td><td>String</td><td>1421</td><td>137135</td><td>98.974422</td><td>12</td><td>[&quot;2009-03-01&quot;, &quot;2009-12-01&quot;, … &quot;2009-07-01&quot;]</td><td>null</td><td>null</td></tr><tr><td>&quot;Gender&quot;</td><td>Int64</td><td>138556</td><td>0</td><td>0.0</td><td>2</td><td>[&quot;1&quot;, &quot;2&quot;]</td><td>-1.917846</td><td>-0.286625</td></tr><tr><td>&quot;Race&quot;</td><td>Int64</td><td>138556</td><td>0</td><td>0.0</td><td>4</td><td>[&quot;1&quot;, &quot;2&quot;, … &quot;5&quot;]</td><td>14.006224</td><td>3.58442</td></tr><tr><td>&hellip;</td><td>&hellip;</td><td>&hellip;</td><td>&hellip;</td><td>&hellip;</td><td>&hellip;</td><td>&hellip;</td><td>&hellip;</td><td>&hellip;</td></tr><tr><td>&quot;ChronicCond_stroke&quot;</td><td>Int64</td><td>138556</td><td>0</td><td>0.0</td><td>2</td><td>[&quot;1&quot;, &quot;2&quot;]</td><td>7.73474</td><td>-3.120055</td></tr><tr><td>&quot;IPAnnualReimbursementAmt&quot;</td><td>Int64</td><td>138556</td><td>0</td><td>0.0</td><td>3004</td><td>[&quot;-8000&quot;, &quot;-1400&quot;, … &quot;161470&quot;]</td><td>31.024055</td><td>4.636492</td></tr><tr><td>&quot;IPAnnualDeductibleAmt&quot;</td><td>Int64</td><td>138556</td><td>0</td><td>0.0</td><td>147</td><td>[&quot;0&quot;, &quot;1068&quot;, … &quot;38272&quot;]</td><td>268.099503</td><td>10.453149</td></tr><tr><td>&quot;OPAnnualReimbursementAmt&quot;</td><td>Int64</td><td>138556</td><td>0</td><td>0.0</td><td>2078</td><td>[&quot;-70&quot;, &quot;-60&quot;, … &quot;102960&quot;]</td><td>159.614125</td><td>8.605933</td></tr><tr><td>&quot;OPAnnualDeductibleAmt&quot;</td><td>Int64</td><td>138556</td><td>0</td><td>0.0</td><td>789</td><td>[&quot;0&quot;, &quot;10&quot;, … &quot;13840&quot;]</td><td>47.745218</td><td>5.43529</td></tr></tbody></table></div>"
      ],
      "text/plain": [
       "shape: (25, 9)\n",
       "┌───────────┬───────────┬───────────┬───────────┬───┬───────────┬───────────┬───────────┬──────────┐\n",
       "│ Columns   ┆ Data Type ┆ Non-Null  ┆ Null      ┆ … ┆ Number of ┆ Sample    ┆ Kurtosis  ┆ Skewness │\n",
       "│ ---       ┆ ---       ┆ count     ┆ count     ┆   ┆ Unique    ┆ Unique    ┆ ---       ┆ ---      │\n",
       "│ str       ┆ object    ┆ ---       ┆ ---       ┆   ┆ Values    ┆ Values    ┆ f64       ┆ f64      │\n",
       "│           ┆           ┆ i64       ┆ i64       ┆   ┆ ---       ┆ ---       ┆           ┆          │\n",
       "│           ┆           ┆           ┆           ┆   ┆ i64       ┆ list[str] ┆           ┆          │\n",
       "╞═══════════╪═══════════╪═══════════╪═══════════╪═══╪═══════════╪═══════════╪═══════════╪══════════╡\n",
       "│ BeneID    ┆ String    ┆ 138556    ┆ 0         ┆ … ┆ 138556    ┆ [\"BENE552 ┆ null      ┆ null     │\n",
       "│           ┆           ┆           ┆           ┆   ┆           ┆ 25\", \"BEN ┆           ┆          │\n",
       "│           ┆           ┆           ┆           ┆   ┆           ┆ E108255\", ┆           ┆          │\n",
       "│           ┆           ┆           ┆           ┆   ┆           ┆ … …       ┆           ┆          │\n",
       "│ DOB       ┆ String    ┆ 138556    ┆ 0         ┆ … ┆ 900       ┆ [\"1919-10 ┆ null      ┆ null     │\n",
       "│           ┆           ┆           ┆           ┆   ┆           ┆ -01\", \"19 ┆           ┆          │\n",
       "│           ┆           ┆           ┆           ┆   ┆           ┆ 45-07-01\" ┆           ┆          │\n",
       "│           ┆           ┆           ┆           ┆   ┆           ┆ , ……      ┆           ┆          │\n",
       "│ DOD       ┆ String    ┆ 1421      ┆ 137135    ┆ … ┆ 12        ┆ [\"2009-03 ┆ null      ┆ null     │\n",
       "│           ┆           ┆           ┆           ┆   ┆           ┆ -01\", \"20 ┆           ┆          │\n",
       "│           ┆           ┆           ┆           ┆   ┆           ┆ 09-12-01\" ┆           ┆          │\n",
       "│           ┆           ┆           ┆           ┆   ┆           ┆ , ……      ┆           ┆          │\n",
       "│ Gender    ┆ Int64     ┆ 138556    ┆ 0         ┆ … ┆ 2         ┆ [\"1\",     ┆ -1.917846 ┆ -0.28662 │\n",
       "│           ┆           ┆           ┆           ┆   ┆           ┆ \"2\"]      ┆           ┆ 5        │\n",
       "│ Race      ┆ Int64     ┆ 138556    ┆ 0         ┆ … ┆ 4         ┆ [\"1\",     ┆ 14.006224 ┆ 3.58442  │\n",
       "│           ┆           ┆           ┆           ┆   ┆           ┆ \"2\", …    ┆           ┆          │\n",
       "│           ┆           ┆           ┆           ┆   ┆           ┆ \"5\"]      ┆           ┆          │\n",
       "│ …         ┆ …         ┆ …         ┆ …         ┆ … ┆ …         ┆ …         ┆ …         ┆ …        │\n",
       "│ ChronicCo ┆ Int64     ┆ 138556    ┆ 0         ┆ … ┆ 2         ┆ [\"1\",     ┆ 7.73474   ┆ -3.12005 │\n",
       "│ nd_stroke ┆           ┆           ┆           ┆   ┆           ┆ \"2\"]      ┆           ┆ 5        │\n",
       "│ IPAnnualR ┆ Int64     ┆ 138556    ┆ 0         ┆ … ┆ 3004      ┆ [\"-8000\", ┆ 31.024055 ┆ 4.636492 │\n",
       "│ eimbursem ┆           ┆           ┆           ┆   ┆           ┆ \"-1400\",  ┆           ┆          │\n",
       "│ entAmt    ┆           ┆           ┆           ┆   ┆           ┆ …         ┆           ┆          │\n",
       "│           ┆           ┆           ┆           ┆   ┆           ┆ \"161470\"] ┆           ┆          │\n",
       "│ IPAnnualD ┆ Int64     ┆ 138556    ┆ 0         ┆ … ┆ 147       ┆ [\"0\",     ┆ 268.09950 ┆ 10.45314 │\n",
       "│ eductible ┆           ┆           ┆           ┆   ┆           ┆ \"1068\", … ┆ 3         ┆ 9        │\n",
       "│ Amt       ┆           ┆           ┆           ┆   ┆           ┆ \"38272\"]  ┆           ┆          │\n",
       "│ OPAnnualR ┆ Int64     ┆ 138556    ┆ 0         ┆ … ┆ 2078      ┆ [\"-70\",   ┆ 159.61412 ┆ 8.605933 │\n",
       "│ eimbursem ┆           ┆           ┆           ┆   ┆           ┆ \"-60\", …  ┆ 5         ┆          │\n",
       "│ entAmt    ┆           ┆           ┆           ┆   ┆           ┆ \"102960\"] ┆           ┆          │\n",
       "│ OPAnnualD ┆ Int64     ┆ 138556    ┆ 0         ┆ … ┆ 789       ┆ [\"0\",     ┆ 47.745218 ┆ 5.43529  │\n",
       "│ eductible ┆           ┆           ┆           ┆   ┆           ┆ \"10\", …   ┆           ┆          │\n",
       "│ Amt       ┆           ┆           ┆           ┆   ┆           ┆ \"13840\"]  ┆           ┆          │\n",
       "└───────────┴───────────┴───────────┴───────────┴───┴───────────┴───────────┴───────────┴──────────┘"
      ]
     },
     "execution_count": 9,
     "metadata": {},
     "output_type": "execute_result"
    }
   ],
   "source": [
    "beneficiary_stats"
   ]
  },
  {
   "cell_type": "code",
   "execution_count": 10,
   "metadata": {},
   "outputs": [
    {
     "name": "stdout",
     "output_type": "stream",
     "text": [
      "Columns with null values:\n",
      "shape: (1, 3)\n",
      "┌─────────┬────────────┬────────────────────────┐\n",
      "│ Columns ┆ Null count ┆ Missing Percentage (%) │\n",
      "│ ---     ┆ ---        ┆ ---                    │\n",
      "│ str     ┆ i64        ┆ f64                    │\n",
      "╞═════════╪════════════╪════════════════════════╡\n",
      "│ DOD     ┆ 137135     ┆ 98.974422              │\n",
      "└─────────┴────────────┴────────────────────────┘\n"
     ]
    }
   ],
   "source": [
    "has_nulls = beneficiary_stats.filter(pl.col(\"Null count\") > 0)\n",
    "\n",
    "print(\"Columns with null values:\")\n",
    "print(has_nulls.select([\"Columns\", \"Null count\", \"Missing Percentage (%)\"]))"
   ]
  },
  {
   "cell_type": "code",
   "execution_count": 11,
   "metadata": {},
   "outputs": [
    {
     "name": "stdout",
     "output_type": "stream",
     "text": [
      "Number of unique beneficiaries in the dataset: 138556\n"
     ]
    }
   ],
   "source": [
    "# Number of unique beneficiaries in Training Data\n",
    "beneficiary_row = beneficiary_stats.filter(pl.col(\"Columns\") == \"BeneID\")\n",
    "unique_beneficiaries = beneficiary_row.select(pl.col(\"Number of Unique Values\")).item()\n",
    "\n",
    "print(f\"Number of unique beneficiaries in the dataset: {unique_beneficiaries}\")"
   ]
  },
  {
   "cell_type": "code",
   "execution_count": 12,
   "metadata": {},
   "outputs": [],
   "source": [
    "# Gender distribution transformation (1: Male, 2: Female → 1: Male, 0: Female)\n",
    "train_beneficiary = train_beneficiary.with_columns(\n",
    "    (pl.when(pl.col(\"Gender\") == 2).then(0).otherwise(1)).alias(\"Gender\")\n",
    ")"
   ]
  },
  {
   "cell_type": "code",
   "execution_count": 13,
   "metadata": {},
   "outputs": [
    {
     "data": {
      "image/png": "[encoded data removed]",
      "text/plain": [
       "<Figure size 800x600 with 1 Axes>"
      ]
     },
     "metadata": {},
     "output_type": "display_data"
    }
   ],
   "source": [
    "gender_counts = (\n",
    "    train_beneficiary\n",
    "    .group_by(\"Gender\")\n",
    "    .agg(pl.len().alias(\"count\"))\n",
    "    .sort(\"Gender\")\n",
    ")\n",
    "\n",
    "gender_pd = gender_counts.to_pandas()\n",
    "\n",
    "# Visualizing the distribution of beneficiaries based on Gender\n",
    "plt.figure(figsize=(8, 6))\n",
    "fig = plt.bar(\n",
    "    gender_pd[\"Gender\"].astype(str),\n",
    "    gender_pd[\"count\"],\n",
    "    color=['#358ABE', '#988ED5']\n",
    ")\n",
    "\n",
    "total = gender_pd[\"count\"].sum()\n",
    "for i, count in enumerate(gender_pd[\"count\"]):\n",
    "    percentage = round((count / total) * 100, 2)\n",
    "    plt.text(i, count * 1.015, f'{percentage}%', ha='center', fontsize=13.5)\n",
    "\n",
    "plt.xlabel(\"Gender Code\")\n",
    "plt.ylabel(\"Number or % share of patients\\n\")\n",
    "plt.title(\"Distribution of BENEFICIARIES based on GENDER\\n\")\n",
    "plt.tight_layout()\n",
    "plt.show()"
   ]
  },
  {
   "cell_type": "code",
   "execution_count": 14,
   "metadata": {},
   "outputs": [],
   "source": [
    "# Calculating Age from DOB\n",
    "train_beneficiary = train_beneficiary.with_columns(\n",
    "    pl.col(\"DOB\").str.strptime(pl.Date, \"%Y-%m-%d\").alias(\"DOB\")\n",
    ")\n",
    "train_beneficiary = train_beneficiary.with_columns(\n",
    "    pl.col(\"DOB\").dt.year().alias(\"Patient_Age_Year\"),\n",
    "    pl.col(\"DOB\").dt.month().alias(\"Patient_Age_Month\")\n",
    ")"
   ]
  },
  {
   "cell_type": "code",
   "execution_count": 15,
   "metadata": {},
   "outputs": [],
   "source": [
    "bene_age_year_df = (\n",
    "    train_beneficiary\n",
    "    .select(\"Patient_Age_Year\")\n",
    "    .group_by(\"Patient_Age_Year\")\n",
    "    .agg(pl.len().alias(\"num_of_beneficiaries\"))\n",
    "    .sort(\"Patient_Age_Year\")\n",
    "    .rename({\"Patient_Age_Year\": \"year\"})\n",
    ")\n",
    "\n",
    "bene_age_year_pd = bene_age_year_df.to_pandas()"
   ]
  },
  {
   "cell_type": "code",
   "execution_count": 16,
   "metadata": {},
   "outputs": [
    {
     "data": {
      "image/png": "[encoded data removed]",
      "text/plain": [
       "<Figure size 2100x900 with 1 Axes>"
      ]
     },
     "metadata": {},
     "output_type": "display_data"
    }
   ],
   "source": [
    "plt.figure(figsize=(21, 9))\n",
    "\n",
    "fig = sns.barplot(data=bene_age_year_pd, x='year', y='num_of_beneficiaries', palette='inferno')\n",
    "\n",
    "total_beneficiaries = train_beneficiary.shape[0]\n",
    "for p in fig.patches:\n",
    "    width = p.get_width()\n",
    "    height = p.get_height()\n",
    "    x, y = p.get_xy()\n",
    "    percentage = round((height * 100) / total_beneficiaries, 1)\n",
    "    fig.annotate(f'{percentage}%', (x + width / 2, y + height * 1.025), ha='center', fontsize=13.5, rotation=90)\n",
    "\n",
    "plt.xlabel(\"\\nBeneficiary YEAR of Birth\")\n",
    "plt.ylabel(\"Number or % share of patients\\n\")\n",
    "plt.title(\"Distribution of BENEFICIARIES based on their YEAR of birth\\n\")\n",
    "plt.xticks(rotation=90)\n",
    "plt.minorticks_on()\n",
    "plt.tight_layout()\n",
    "plt.show()"
   ]
  },
  {
   "cell_type": "code",
   "execution_count": 17,
   "metadata": {},
   "outputs": [],
   "source": [
    "# Adding \"Dead_or_Alive\" column (1: Dead, 0: Alive)\n",
    "train_beneficiary = train_beneficiary.with_columns(\n",
    "    (pl.when(pl.col(\"DOD\").is_null()).then(0).otherwise(1)).alias(\"Dead_or_Alive\")\n",
    ")"
   ]
  },
  {
   "cell_type": "code",
   "execution_count": 18,
   "metadata": {},
   "outputs": [],
   "source": [
    "# Filling NaN values in \"DOD\" column with the latest known death date\n",
    "max_dod = train_beneficiary[\"DOD\"].drop_nulls().max()\n",
    "\n",
    "train_beneficiary = train_beneficiary.with_columns(\n",
    "    pl.when(pl.col(\"DOD\").is_null())\n",
    "    .then(pl.lit(max_dod))\n",
    "    .otherwise(pl.col(\"DOD\"))\n",
    "    .alias(\"DOD\")\n",
    ")"
   ]
  },
  {
   "cell_type": "code",
   "execution_count": 19,
   "metadata": {},
   "outputs": [],
   "source": [
    "# Ensuring \"DOD\" and \"DOB\" are in Date format\n",
    "train_beneficiary = train_beneficiary.with_columns([\n",
    "    pl.col(\"DOD\").cast(pl.Utf8).str.strptime(pl.Date, \"%Y-%m-%d\", strict=False).alias(\"DOD\"),\n",
    "    pl.col(\"DOB\").cast(pl.Utf8).str.strptime(pl.Date, \"%Y-%m-%d\", strict=False).alias(\"DOB\")\n",
    "])\n",
    "\n",
    "# Calculating age only for non-null DOD values\n",
    "train_beneficiary = train_beneficiary.with_columns(\n",
    "    pl.when(pl.col(\"DOD\").is_not_null())\n",
    "    .then(((pl.col(\"DOD\") - pl.col(\"DOB\")).dt.total_days() / 365.0).round(1))\n",
    "    .otherwise(None)\n",
    "    .alias(\"AGE\")\n",
    ")\n",
    "\n",
    "# Dropping DOD column\n",
    "train_beneficiary = train_beneficiary.drop(\"DOD\")"
   ]
  },
  {
   "cell_type": "code",
   "execution_count": 20,
   "metadata": {},
   "outputs": [],
   "source": [
    "# train_beneficiary = train_beneficiary.with_columns(\n",
    "#     pl.when(pl.col(\"AGE\") <= 40)\n",
    "#     .then(\"Young\")\n",
    "#     .when(pl.col(\"AGE\") <= 60)\n",
    "#     .then(\"Mid\")\n",
    "#     .when(pl.col(\"AGE\") <= 80)\n",
    "#     .then(\"Old\")\n",
    "#     .otherwise(\"Very Old\")\n",
    "#     .alias(\"AGE_groups\")\n",
    "# )"
   ]
  },
  {
   "cell_type": "markdown",
   "metadata": {},
   "source": [
    "## Exploring In-patients and Out-patients Data"
   ]
  },
  {
   "cell_type": "code",
   "execution_count": 21,
   "metadata": {},
   "outputs": [
    {
     "name": "stdout",
     "output_type": "stream",
     "text": [
      "Shape of Training InPatient Data: (40474, 30)\n",
      "Shape of Training OutPatient Data: (517737, 27)\n",
      "==================================================\n",
      "Shape of Testing InPatient Data: (9551, 30)\n",
      "Shape of Testing OutPatient Data: (125841, 27)\n"
     ]
    }
   ],
   "source": [
    "print(f\"Shape of Training InPatient Data: {train_inpatient.shape}\")\n",
    "print(f\"Shape of Training OutPatient Data: {train_outpatient.shape}\")\n",
    "print(f\"=\"*50)\n",
    "print(f\"Shape of Testing InPatient Data: {test_inpatient.shape}\")\n",
    "print(f\"Shape of Testing OutPatient Data: {test_outpatient.shape}\")"
   ]
  },
  {
   "cell_type": "code",
   "execution_count": 22,
   "metadata": {},
   "outputs": [
    {
     "name": "stdout",
     "output_type": "stream",
     "text": [
      "Columns in InPatient Data: ['BeneID', 'ClaimID', 'ClaimStartDt', 'ClaimEndDt', 'Provider', 'InscClaimAmtReimbursed', 'AttendingPhysician', 'OperatingPhysician', 'OtherPhysician', 'AdmissionDt', 'ClmAdmitDiagnosisCode', 'DeductibleAmtPaid', 'DischargeDt', 'DiagnosisGroupCode', 'ClmDiagnosisCode_1', 'ClmDiagnosisCode_2', 'ClmDiagnosisCode_3', 'ClmDiagnosisCode_4', 'ClmDiagnosisCode_5', 'ClmDiagnosisCode_6', 'ClmDiagnosisCode_7', 'ClmDiagnosisCode_8', 'ClmDiagnosisCode_9', 'ClmDiagnosisCode_10', 'ClmProcedureCode_1', 'ClmProcedureCode_2', 'ClmProcedureCode_3', 'ClmProcedureCode_4', 'ClmProcedureCode_5', 'ClmProcedureCode_6']\n"
     ]
    }
   ],
   "source": [
    "print(f\"Columns in InPatient Data: {train_inpatient.columns}\")"
   ]
  },
  {
   "cell_type": "code",
   "execution_count": 23,
   "metadata": {},
   "outputs": [
    {
     "name": "stdout",
     "output_type": "stream",
     "text": [
      "Columns in OutPatient Data: ['BeneID', 'ClaimID', 'ClaimStartDt', 'ClaimEndDt', 'Provider', 'InscClaimAmtReimbursed', 'AttendingPhysician', 'OperatingPhysician', 'OtherPhysician', 'ClmDiagnosisCode_1', 'ClmDiagnosisCode_2', 'ClmDiagnosisCode_3', 'ClmDiagnosisCode_4', 'ClmDiagnosisCode_5', 'ClmDiagnosisCode_6', 'ClmDiagnosisCode_7', 'ClmDiagnosisCode_8', 'ClmDiagnosisCode_9', 'ClmDiagnosisCode_10', 'ClmProcedureCode_1', 'ClmProcedureCode_2', 'ClmProcedureCode_3', 'ClmProcedureCode_4', 'ClmProcedureCode_5', 'ClmProcedureCode_6', 'DeductibleAmtPaid', 'ClmAdmitDiagnosisCode']\n"
     ]
    }
   ],
   "source": [
    "print(f\"Columns in OutPatient Data: {train_outpatient.columns}\")"
   ]
  },
  {
   "cell_type": "code",
   "execution_count": 24,
   "metadata": {},
   "outputs": [
    {
     "data": {
      "text/plain": [
       "Schema([('BeneID', String),\n",
       "        ('ClaimID', String),\n",
       "        ('ClaimStartDt', String),\n",
       "        ('ClaimEndDt', String),\n",
       "        ('Provider', String),\n",
       "        ('InscClaimAmtReimbursed', Int64),\n",
       "        ('AttendingPhysician', String),\n",
       "        ('OperatingPhysician', String),\n",
       "        ('OtherPhysician', String),\n",
       "        ('AdmissionDt', String),\n",
       "        ('ClmAdmitDiagnosisCode', String),\n",
       "        ('DeductibleAmtPaid', String),\n",
       "        ('DischargeDt', String),\n",
       "        ('DiagnosisGroupCode', Int64),\n",
       "        ('ClmDiagnosisCode_1', Int64),\n",
       "        ('ClmDiagnosisCode_2', String),\n",
       "        ('ClmDiagnosisCode_3', String),\n",
       "        ('ClmDiagnosisCode_4', String),\n",
       "        ('ClmDiagnosisCode_5', String),\n",
       "        ('ClmDiagnosisCode_6', String),\n",
       "        ('ClmDiagnosisCode_7', String),\n",
       "        ('ClmDiagnosisCode_8', String),\n",
       "        ('ClmDiagnosisCode_9', String),\n",
       "        ('ClmDiagnosisCode_10', String),\n",
       "        ('ClmProcedureCode_1', String),\n",
       "        ('ClmProcedureCode_2', String),\n",
       "        ('ClmProcedureCode_3', String),\n",
       "        ('ClmProcedureCode_4', String),\n",
       "        ('ClmProcedureCode_5', String),\n",
       "        ('ClmProcedureCode_6', String)])"
      ]
     },
     "execution_count": 24,
     "metadata": {},
     "output_type": "execute_result"
    }
   ],
   "source": [
    "train_inpatient.schema"
   ]
  },
  {
   "cell_type": "code",
   "execution_count": 25,
   "metadata": {},
   "outputs": [
    {
     "data": {
      "text/plain": [
       "Schema([('BeneID', String),\n",
       "        ('ClaimID', String),\n",
       "        ('ClaimStartDt', String),\n",
       "        ('ClaimEndDt', String),\n",
       "        ('Provider', String),\n",
       "        ('InscClaimAmtReimbursed', Int64),\n",
       "        ('AttendingPhysician', String),\n",
       "        ('OperatingPhysician', String),\n",
       "        ('OtherPhysician', String),\n",
       "        ('ClmDiagnosisCode_1', String),\n",
       "        ('ClmDiagnosisCode_2', String),\n",
       "        ('ClmDiagnosisCode_3', String),\n",
       "        ('ClmDiagnosisCode_4', String),\n",
       "        ('ClmDiagnosisCode_5', String),\n",
       "        ('ClmDiagnosisCode_6', String),\n",
       "        ('ClmDiagnosisCode_7', String),\n",
       "        ('ClmDiagnosisCode_8', String),\n",
       "        ('ClmDiagnosisCode_9', String),\n",
       "        ('ClmDiagnosisCode_10', String),\n",
       "        ('ClmProcedureCode_1', String),\n",
       "        ('ClmProcedureCode_2', String),\n",
       "        ('ClmProcedureCode_3', String),\n",
       "        ('ClmProcedureCode_4', String),\n",
       "        ('ClmProcedureCode_5', String),\n",
       "        ('ClmProcedureCode_6', String),\n",
       "        ('DeductibleAmtPaid', Int64),\n",
       "        ('ClmAdmitDiagnosisCode', String)])"
      ]
     },
     "execution_count": 25,
     "metadata": {},
     "output_type": "execute_result"
    }
   ],
   "source": [
    "train_outpatient.schema"
   ]
  },
  {
   "cell_type": "code",
   "execution_count": 26,
   "metadata": {},
   "outputs": [],
   "source": [
    "inpatient_stats = get_stats(train_inpatient)"
   ]
  },
  {
   "cell_type": "code",
   "execution_count": 27,
   "metadata": {},
   "outputs": [
    {
     "data": {
      "text/html": [
       "<div><style>\n",
       ".dataframe > thead > tr,\n",
       ".dataframe > tbody > tr {\n",
       "  text-align: right;\n",
       "  white-space: pre-wrap;\n",
       "}\n",
       "</style>\n",
       "<small>shape: (30, 9)</small><table border=\"1\" class=\"dataframe\"><thead><tr><th>Columns</th><th>Data Type</th><th>Non-Null count</th><th>Null count</th><th>Missing Percentage (%)</th><th>Number of Unique Values</th><th>Sample Unique Values</th><th>Kurtosis</th><th>Skewness</th></tr><tr><td>str</td><td>object</td><td>i64</td><td>i64</td><td>f64</td><td>i64</td><td>list[str]</td><td>f64</td><td>f64</td></tr></thead><tbody><tr><td>&quot;BeneID&quot;</td><td>String</td><td>40474</td><td>0</td><td>0.0</td><td>31289</td><td>[&quot;BENE94491&quot;, &quot;BENE146650&quot;, … &quot;BENE70770&quot;]</td><td>null</td><td>null</td></tr><tr><td>&quot;ClaimID&quot;</td><td>String</td><td>40474</td><td>0</td><td>0.0</td><td>40474</td><td>[&quot;CLM41026&quot;, &quot;CLM51579&quot;, … &quot;CLM34539&quot;]</td><td>null</td><td>null</td></tr><tr><td>&quot;ClaimStartDt&quot;</td><td>String</td><td>40474</td><td>0</td><td>0.0</td><td>398</td><td>[&quot;2009-02-27&quot;, &quot;2009-03-28&quot;, … &quot;2009-06-26&quot;]</td><td>null</td><td>null</td></tr><tr><td>&quot;ClaimEndDt&quot;</td><td>String</td><td>40474</td><td>0</td><td>0.0</td><td>365</td><td>[&quot;2009-01-19&quot;, &quot;2009-03-20&quot;, … &quot;2009-12-24&quot;]</td><td>null</td><td>null</td></tr><tr><td>&quot;Provider&quot;</td><td>String</td><td>40474</td><td>0</td><td>0.0</td><td>2092</td><td>[&quot;PRV53256&quot;, &quot;PRV54514&quot;, … &quot;PRV54368&quot;]</td><td>null</td><td>null</td></tr><tr><td>&hellip;</td><td>&hellip;</td><td>&hellip;</td><td>&hellip;</td><td>&hellip;</td><td>&hellip;</td><td>&hellip;</td><td>&hellip;</td><td>&hellip;</td></tr><tr><td>&quot;ClmProcedureCode_2&quot;</td><td>String</td><td>5454</td><td>35020</td><td>86.524683</td><td>298</td><td>[&quot;7850&quot;, &quot;7810&quot;, … &quot;436&quot;]</td><td>null</td><td>null</td></tr><tr><td>&quot;ClmProcedureCode_3&quot;</td><td>String</td><td>965</td><td>39509</td><td>97.615753</td><td>155</td><td>[&quot;3009&quot;, &quot;4299&quot;, … &quot;5363&quot;]</td><td>null</td><td>null</td></tr><tr><td>&quot;ClmProcedureCode_4&quot;</td><td>String</td><td>116</td><td>40358</td><td>99.713396</td><td>49</td><td>[&quot;2763&quot;, &quot;496&quot;, … &quot;3844&quot;]</td><td>null</td><td>null</td></tr><tr><td>&quot;ClmProcedureCode_5&quot;</td><td>String</td><td>9</td><td>40465</td><td>99.977764</td><td>7</td><td>[&quot;5185&quot;, null, … &quot;2724&quot;]</td><td>null</td><td>null</td></tr><tr><td>&quot;ClmProcedureCode_6&quot;</td><td>String</td><td>0</td><td>40474</td><td>100.0</td><td>1</td><td>[null]</td><td>null</td><td>null</td></tr></tbody></table></div>"
      ],
      "text/plain": [
       "shape: (30, 9)\n",
       "┌─────────────┬───────────┬────────────┬───────┬───┬────────────┬────────────┬──────────┬──────────┐\n",
       "│ Columns     ┆ Data Type ┆ Non-Null   ┆ Null  ┆ … ┆ Number of  ┆ Sample     ┆ Kurtosis ┆ Skewness │\n",
       "│ ---         ┆ ---       ┆ count      ┆ count ┆   ┆ Unique     ┆ Unique     ┆ ---      ┆ ---      │\n",
       "│ str         ┆ object    ┆ ---        ┆ ---   ┆   ┆ Values     ┆ Values     ┆ f64      ┆ f64      │\n",
       "│             ┆           ┆ i64        ┆ i64   ┆   ┆ ---        ┆ ---        ┆          ┆          │\n",
       "│             ┆           ┆            ┆       ┆   ┆ i64        ┆ list[str]  ┆          ┆          │\n",
       "╞═════════════╪═══════════╪════════════╪═══════╪═══╪════════════╪════════════╪══════════╪══════════╡\n",
       "│ BeneID      ┆ String    ┆ 40474      ┆ 0     ┆ … ┆ 31289      ┆ [\"BENE9449 ┆ null     ┆ null     │\n",
       "│             ┆           ┆            ┆       ┆   ┆            ┆ 1\", \"BENE1 ┆          ┆          │\n",
       "│             ┆           ┆            ┆       ┆   ┆            ┆ 46650\", …  ┆          ┆          │\n",
       "│             ┆           ┆            ┆       ┆   ┆            ┆ …          ┆          ┆          │\n",
       "│ ClaimID     ┆ String    ┆ 40474      ┆ 0     ┆ … ┆ 40474      ┆ [\"CLM41026 ┆ null     ┆ null     │\n",
       "│             ┆           ┆            ┆       ┆   ┆            ┆ \", \"CLM515 ┆          ┆          │\n",
       "│             ┆           ┆            ┆       ┆   ┆            ┆ 79\", …     ┆          ┆          │\n",
       "│             ┆           ┆            ┆       ┆   ┆            ┆ \"CL…       ┆          ┆          │\n",
       "│ ClaimStartD ┆ String    ┆ 40474      ┆ 0     ┆ … ┆ 398        ┆ [\"2009-02- ┆ null     ┆ null     │\n",
       "│ t           ┆           ┆            ┆       ┆   ┆            ┆ 27\", \"2009 ┆          ┆          │\n",
       "│             ┆           ┆            ┆       ┆   ┆            ┆ -03-28\",   ┆          ┆          │\n",
       "│             ┆           ┆            ┆       ┆   ┆            ┆ ……         ┆          ┆          │\n",
       "│ ClaimEndDt  ┆ String    ┆ 40474      ┆ 0     ┆ … ┆ 365        ┆ [\"2009-01- ┆ null     ┆ null     │\n",
       "│             ┆           ┆            ┆       ┆   ┆            ┆ 19\", \"2009 ┆          ┆          │\n",
       "│             ┆           ┆            ┆       ┆   ┆            ┆ -03-20\",   ┆          ┆          │\n",
       "│             ┆           ┆            ┆       ┆   ┆            ┆ ……         ┆          ┆          │\n",
       "│ Provider    ┆ String    ┆ 40474      ┆ 0     ┆ … ┆ 2092       ┆ [\"PRV53256 ┆ null     ┆ null     │\n",
       "│             ┆           ┆            ┆       ┆   ┆            ┆ \", \"PRV545 ┆          ┆          │\n",
       "│             ┆           ┆            ┆       ┆   ┆            ┆ 14\", …     ┆          ┆          │\n",
       "│             ┆           ┆            ┆       ┆   ┆            ┆ \"PR…       ┆          ┆          │\n",
       "│ …           ┆ …         ┆ …          ┆ …     ┆ … ┆ …          ┆ …          ┆ …        ┆ …        │\n",
       "│ ClmProcedur ┆ String    ┆ 5454       ┆ 35020 ┆ … ┆ 298        ┆ [\"7850\",   ┆ null     ┆ null     │\n",
       "│ eCode_2     ┆           ┆            ┆       ┆   ┆            ┆ \"7810\", …  ┆          ┆          │\n",
       "│             ┆           ┆            ┆       ┆   ┆            ┆ \"436\"]     ┆          ┆          │\n",
       "│ ClmProcedur ┆ String    ┆ 965        ┆ 39509 ┆ … ┆ 155        ┆ [\"3009\",   ┆ null     ┆ null     │\n",
       "│ eCode_3     ┆           ┆            ┆       ┆   ┆            ┆ \"4299\", …  ┆          ┆          │\n",
       "│             ┆           ┆            ┆       ┆   ┆            ┆ \"5363\"]    ┆          ┆          │\n",
       "│ ClmProcedur ┆ String    ┆ 116        ┆ 40358 ┆ … ┆ 49         ┆ [\"2763\",   ┆ null     ┆ null     │\n",
       "│ eCode_4     ┆           ┆            ┆       ┆   ┆            ┆ \"496\", …   ┆          ┆          │\n",
       "│             ┆           ┆            ┆       ┆   ┆            ┆ \"3844\"]    ┆          ┆          │\n",
       "│ ClmProcedur ┆ String    ┆ 9          ┆ 40465 ┆ … ┆ 7          ┆ [\"5185\",   ┆ null     ┆ null     │\n",
       "│ eCode_5     ┆           ┆            ┆       ┆   ┆            ┆ null, …    ┆          ┆          │\n",
       "│             ┆           ┆            ┆       ┆   ┆            ┆ \"2724\"]    ┆          ┆          │\n",
       "│ ClmProcedur ┆ String    ┆ 0          ┆ 40474 ┆ … ┆ 1          ┆ [null]     ┆ null     ┆ null     │\n",
       "│ eCode_6     ┆           ┆            ┆       ┆   ┆            ┆            ┆          ┆          │\n",
       "└─────────────┴───────────┴────────────┴───────┴───┴────────────┴────────────┴──────────┴──────────┘"
      ]
     },
     "execution_count": 27,
     "metadata": {},
     "output_type": "execute_result"
    }
   ],
   "source": [
    "inpatient_stats"
   ]
  },
  {
   "cell_type": "code",
   "execution_count": 28,
   "metadata": {},
   "outputs": [
    {
     "name": "stdout",
     "output_type": "stream",
     "text": [
      "Columns with null values:\n",
      "shape: (21, 3)\n",
      "┌─────────────────────┬────────────┬────────────────────────┐\n",
      "│ Columns             ┆ Null count ┆ Missing Percentage (%) │\n",
      "│ ---                 ┆ ---        ┆ ---                    │\n",
      "│ str                 ┆ i64        ┆ f64                    │\n",
      "╞═════════════════════╪════════════╪════════════════════════╡\n",
      "│ ClmProcedureCode_6  ┆ 40474      ┆ 100.0                  │\n",
      "│ ClmProcedureCode_5  ┆ 40465      ┆ 99.977764              │\n",
      "│ ClmProcedureCode_4  ┆ 40358      ┆ 99.713396              │\n",
      "│ ClmProcedureCode_3  ┆ 39509      ┆ 97.615753              │\n",
      "│ ClmDiagnosisCode_10 ┆ 36547      ┆ 90.297475              │\n",
      "│ …                   ┆ …          ┆ …                      │\n",
      "│ DeductibleAmtPaid   ┆ 899        ┆ 2.221179               │\n",
      "│ ClmDiagnosisCode_3  ┆ 676        ┆ 1.670208               │\n",
      "│ ClmDiagnosisCode_2  ┆ 226        ┆ 0.558383               │\n",
      "│ DiagnosisGroupCode  ┆ 113        ┆ 0.279192               │\n",
      "│ AttendingPhysician  ┆ 112        ┆ 0.276721               │\n",
      "└─────────────────────┴────────────┴────────────────────────┘\n"
     ]
    }
   ],
   "source": [
    "ip_has_nulls = inpatient_stats.filter(pl.col(\"Null count\") > 0)\n",
    "\n",
    "print(\"Columns with null values:\")\n",
    "print(\n",
    "    ip_has_nulls\n",
    "    .sort(\"Null count\", descending=True)\n",
    "    .select([\"Columns\", \"Null count\", \"Missing Percentage (%)\"])\n",
    ")"
   ]
  },
  {
   "cell_type": "code",
   "execution_count": 29,
   "metadata": {},
   "outputs": [],
   "source": [
    "onpatient_stats = get_stats(train_outpatient)"
   ]
  },
  {
   "cell_type": "code",
   "execution_count": 30,
   "metadata": {},
   "outputs": [
    {
     "data": {
      "text/html": [
       "<div><style>\n",
       ".dataframe > thead > tr,\n",
       ".dataframe > tbody > tr {\n",
       "  text-align: right;\n",
       "  white-space: pre-wrap;\n",
       "}\n",
       "</style>\n",
       "<small>shape: (27, 9)</small><table border=\"1\" class=\"dataframe\"><thead><tr><th>Columns</th><th>Data Type</th><th>Non-Null count</th><th>Null count</th><th>Missing Percentage (%)</th><th>Number of Unique Values</th><th>Sample Unique Values</th><th>Kurtosis</th><th>Skewness</th></tr><tr><td>str</td><td>object</td><td>i64</td><td>i64</td><td>f64</td><td>i64</td><td>list[str]</td><td>f64</td><td>f64</td></tr></thead><tbody><tr><td>&quot;BeneID&quot;</td><td>String</td><td>517737</td><td>0</td><td>0.0</td><td>133980</td><td>[&quot;BENE150294&quot;, &quot;BENE65663&quot;, … &quot;BENE40262&quot;]</td><td>null</td><td>null</td></tr><tr><td>&quot;ClaimID&quot;</td><td>String</td><td>517737</td><td>0</td><td>0.0</td><td>517737</td><td>[&quot;CLM224639&quot;, &quot;CLM285628&quot;, … &quot;CLM524072&quot;]</td><td>null</td><td>null</td></tr><tr><td>&quot;ClaimStartDt&quot;</td><td>String</td><td>517737</td><td>0</td><td>0.0</td><td>385</td><td>[&quot;2009-08-29&quot;, &quot;2009-07-10&quot;, … &quot;2009-08-22&quot;]</td><td>null</td><td>null</td></tr><tr><td>&quot;ClaimEndDt&quot;</td><td>String</td><td>517737</td><td>0</td><td>0.0</td><td>366</td><td>[&quot;2009-03-19&quot;, &quot;2009-12-17&quot;, … &quot;2009-07-31&quot;]</td><td>null</td><td>null</td></tr><tr><td>&quot;Provider&quot;</td><td>String</td><td>517737</td><td>0</td><td>0.0</td><td>5012</td><td>[&quot;PRV56734&quot;, &quot;PRV53249&quot;, … &quot;PRV52748&quot;]</td><td>null</td><td>null</td></tr><tr><td>&hellip;</td><td>&hellip;</td><td>&hellip;</td><td>&hellip;</td><td>&hellip;</td><td>&hellip;</td><td>&hellip;</td><td>&hellip;</td><td>&hellip;</td></tr><tr><td>&quot;ClmProcedureCode_4&quot;</td><td>String</td><td>2</td><td>517735</td><td>99.999614</td><td>3</td><td>[&quot;7840&quot;, &quot;311&quot;, null]</td><td>null</td><td>null</td></tr><tr><td>&quot;ClmProcedureCode_5&quot;</td><td>String</td><td>0</td><td>517737</td><td>100.0</td><td>1</td><td>[null]</td><td>null</td><td>null</td></tr><tr><td>&quot;ClmProcedureCode_6&quot;</td><td>String</td><td>0</td><td>517737</td><td>100.0</td><td>1</td><td>[null]</td><td>null</td><td>null</td></tr><tr><td>&quot;DeductibleAmtPaid&quot;</td><td>Int64</td><td>517737</td><td>0</td><td>0.0</td><td>16</td><td>[&quot;0&quot;, &quot;10&quot;, … &quot;897&quot;]</td><td>180.688602</td><td>8.735315</td></tr><tr><td>&quot;ClmAdmitDiagnosisCode&quot;</td><td>String</td><td>517737</td><td>0</td><td>0.0</td><td>3716</td><td>[&quot;73017&quot;, &quot;7380&quot;, … &quot;25071&quot;]</td><td>null</td><td>null</td></tr></tbody></table></div>"
      ],
      "text/plain": [
       "shape: (27, 9)\n",
       "┌────────────┬───────────┬────────────┬────────┬───┬────────────┬───────────┬───────────┬──────────┐\n",
       "│ Columns    ┆ Data Type ┆ Non-Null   ┆ Null   ┆ … ┆ Number of  ┆ Sample    ┆ Kurtosis  ┆ Skewness │\n",
       "│ ---        ┆ ---       ┆ count      ┆ count  ┆   ┆ Unique     ┆ Unique    ┆ ---       ┆ ---      │\n",
       "│ str        ┆ object    ┆ ---        ┆ ---    ┆   ┆ Values     ┆ Values    ┆ f64       ┆ f64      │\n",
       "│            ┆           ┆ i64        ┆ i64    ┆   ┆ ---        ┆ ---       ┆           ┆          │\n",
       "│            ┆           ┆            ┆        ┆   ┆ i64        ┆ list[str] ┆           ┆          │\n",
       "╞════════════╪═══════════╪════════════╪════════╪═══╪════════════╪═══════════╪═══════════╪══════════╡\n",
       "│ BeneID     ┆ String    ┆ 517737     ┆ 0      ┆ … ┆ 133980     ┆ [\"BENE150 ┆ null      ┆ null     │\n",
       "│            ┆           ┆            ┆        ┆   ┆            ┆ 294\", \"BE ┆           ┆          │\n",
       "│            ┆           ┆            ┆        ┆   ┆            ┆ NE65663\", ┆           ┆          │\n",
       "│            ┆           ┆            ┆        ┆   ┆            ┆ … …       ┆           ┆          │\n",
       "│ ClaimID    ┆ String    ┆ 517737     ┆ 0      ┆ … ┆ 517737     ┆ [\"CLM2246 ┆ null      ┆ null     │\n",
       "│            ┆           ┆            ┆        ┆   ┆            ┆ 39\", \"CLM ┆           ┆          │\n",
       "│            ┆           ┆            ┆        ┆   ┆            ┆ 285628\",  ┆           ┆          │\n",
       "│            ┆           ┆            ┆        ┆   ┆            ┆ … \"…      ┆           ┆          │\n",
       "│ ClaimStart ┆ String    ┆ 517737     ┆ 0      ┆ … ┆ 385        ┆ [\"2009-08 ┆ null      ┆ null     │\n",
       "│ Dt         ┆           ┆            ┆        ┆   ┆            ┆ -29\", \"20 ┆           ┆          │\n",
       "│            ┆           ┆            ┆        ┆   ┆            ┆ 09-07-10\" ┆           ┆          │\n",
       "│            ┆           ┆            ┆        ┆   ┆            ┆ , ……      ┆           ┆          │\n",
       "│ ClaimEndDt ┆ String    ┆ 517737     ┆ 0      ┆ … ┆ 366        ┆ [\"2009-03 ┆ null      ┆ null     │\n",
       "│            ┆           ┆            ┆        ┆   ┆            ┆ -19\", \"20 ┆           ┆          │\n",
       "│            ┆           ┆            ┆        ┆   ┆            ┆ 09-12-17\" ┆           ┆          │\n",
       "│            ┆           ┆            ┆        ┆   ┆            ┆ , ……      ┆           ┆          │\n",
       "│ Provider   ┆ String    ┆ 517737     ┆ 0      ┆ … ┆ 5012       ┆ [\"PRV5673 ┆ null      ┆ null     │\n",
       "│            ┆           ┆            ┆        ┆   ┆            ┆ 4\", \"PRV5 ┆           ┆          │\n",
       "│            ┆           ┆            ┆        ┆   ┆            ┆ 3249\", …  ┆           ┆          │\n",
       "│            ┆           ┆            ┆        ┆   ┆            ┆ \"PR…      ┆           ┆          │\n",
       "│ …          ┆ …         ┆ …          ┆ …      ┆ … ┆ …          ┆ …         ┆ …         ┆ …        │\n",
       "│ ClmProcedu ┆ String    ┆ 2          ┆ 517735 ┆ … ┆ 3          ┆ [\"7840\",  ┆ null      ┆ null     │\n",
       "│ reCode_4   ┆           ┆            ┆        ┆   ┆            ┆ \"311\",    ┆           ┆          │\n",
       "│            ┆           ┆            ┆        ┆   ┆            ┆ null]     ┆           ┆          │\n",
       "│ ClmProcedu ┆ String    ┆ 0          ┆ 517737 ┆ … ┆ 1          ┆ [null]    ┆ null      ┆ null     │\n",
       "│ reCode_5   ┆           ┆            ┆        ┆   ┆            ┆           ┆           ┆          │\n",
       "│ ClmProcedu ┆ String    ┆ 0          ┆ 517737 ┆ … ┆ 1          ┆ [null]    ┆ null      ┆ null     │\n",
       "│ reCode_6   ┆           ┆            ┆        ┆   ┆            ┆           ┆           ┆          │\n",
       "│ Deductible ┆ Int64     ┆ 517737     ┆ 0      ┆ … ┆ 16         ┆ [\"0\",     ┆ 180.68860 ┆ 8.735315 │\n",
       "│ AmtPaid    ┆           ┆            ┆        ┆   ┆            ┆ \"10\", …   ┆ 2         ┆          │\n",
       "│            ┆           ┆            ┆        ┆   ┆            ┆ \"897\"]    ┆           ┆          │\n",
       "│ ClmAdmitDi ┆ String    ┆ 517737     ┆ 0      ┆ … ┆ 3716       ┆ [\"73017\", ┆ null      ┆ null     │\n",
       "│ agnosisCod ┆           ┆            ┆        ┆   ┆            ┆ \"7380\", … ┆           ┆          │\n",
       "│ e          ┆           ┆            ┆        ┆   ┆            ┆ \"25071\"]  ┆           ┆          │\n",
       "└────────────┴───────────┴────────────┴────────┴───┴────────────┴───────────┴───────────┴──────────┘"
      ]
     },
     "execution_count": 30,
     "metadata": {},
     "output_type": "execute_result"
    }
   ],
   "source": [
    "onpatient_stats"
   ]
  },
  {
   "cell_type": "code",
   "execution_count": 31,
   "metadata": {},
   "outputs": [
    {
     "name": "stdout",
     "output_type": "stream",
     "text": [
      "Columns with null values:\n",
      "shape: (19, 3)\n",
      "┌────────────────────┬────────────┬────────────────────────┐\n",
      "│ Columns            ┆ Null count ┆ Missing Percentage (%) │\n",
      "│ ---                ┆ ---        ┆ ---                    │\n",
      "│ str                ┆ i64        ┆ f64                    │\n",
      "╞════════════════════╪════════════╪════════════════════════╡\n",
      "│ ClmProcedureCode_5 ┆ 517737     ┆ 100.0                  │\n",
      "│ ClmProcedureCode_6 ┆ 517737     ┆ 100.0                  │\n",
      "│ ClmProcedureCode_4 ┆ 517735     ┆ 99.999614              │\n",
      "│ ClmProcedureCode_3 ┆ 517733     ┆ 99.999227              │\n",
      "│ ClmProcedureCode_2 ┆ 517701     ┆ 99.993047              │\n",
      "│ …                  ┆ …          ┆ …                      │\n",
      "│ OtherPhysician     ┆ 322691     ┆ 62.327205              │\n",
      "│ ClmDiagnosisCode_3 ┆ 314480     ┆ 60.741264              │\n",
      "│ ClmDiagnosisCode_2 ┆ 195380     ┆ 37.737307              │\n",
      "│ ClmDiagnosisCode_1 ┆ 10453      ┆ 2.018979               │\n",
      "│ AttendingPhysician ┆ 1396       ┆ 0.269635               │\n",
      "└────────────────────┴────────────┴────────────────────────┘\n"
     ]
    }
   ],
   "source": [
    "op_has_nulls = onpatient_stats.filter(pl.col(\"Null count\") > 0)\n",
    "\n",
    "print(\"Columns with null values:\")\n",
    "print(\n",
    "    op_has_nulls\n",
    "    .sort(\"Null count\", descending=True)\n",
    "    .select([\"Columns\", \"Null count\", \"Missing Percentage (%)\"])\n",
    ")"
   ]
  }
 ],
 "metadata": {
  "kernelspec": {
   "display_name": "INFO531",
   "language": "python",
   "name": "python3"
  },
  "language_info": {
   "codemirror_mode": {
    "name": "ipython",
    "version": 3
   },
   "file_extension": ".py",
   "mimetype": "text/x-python",
   "name": "python",
   "nbconvert_exporter": "python",
   "pygments_lexer": "ipython3",
   "version": "3.11.11"
  }
 },
 "nbformat": 4,
 "nbformat_minor": 2
}
